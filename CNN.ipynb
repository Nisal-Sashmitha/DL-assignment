{
  "nbformat": 4,
  "nbformat_minor": 0,
  "metadata": {
    "colab": {
      "provenance": []
    },
    "kernelspec": {
      "name": "python3",
      "display_name": "Python 3"
    },
    "language_info": {
      "name": "python"
    }
  },
  "cells": [
    {
      "cell_type": "markdown",
      "source": [
        "Mount Google Drive"
      ],
      "metadata": {
        "id": "eS0DU2Pu_3rm"
      }
    },
    {
      "cell_type": "code",
      "execution_count": 1,
      "metadata": {
        "colab": {
          "base_uri": "https://localhost:8080/"
        },
        "id": "sXNMrCdKaHqM",
        "outputId": "4fd2729c-c315-4661-b267-b0a780b6d776"
      },
      "outputs": [
        {
          "output_type": "stream",
          "name": "stdout",
          "text": [
            "Drive already mounted at /content/drive; to attempt to forcibly remount, call drive.mount(\"/content/drive\", force_remount=True).\n"
          ]
        }
      ],
      "source": [
        "from google.colab import drive\n",
        "drive.mount('/content/drive')"
      ]
    },
    {
      "cell_type": "markdown",
      "source": [
        "Unzip the dataset"
      ],
      "metadata": {
        "id": "R-9xuQ9P_7CR"
      }
    },
    {
      "cell_type": "code",
      "source": [
        "import zipfile"
      ],
      "metadata": {
        "id": "_-OldPYi-Pkv"
      },
      "execution_count": 2,
      "outputs": []
    },
    {
      "cell_type": "code",
      "source": [
        "dataset_path = '/content/drive/MyDrive/skin cancer dataset.zip'\n",
        "extracted_path = '/content/dataset'"
      ],
      "metadata": {
        "id": "Wo2D4RYD-S0u"
      },
      "execution_count": 3,
      "outputs": []
    },
    {
      "cell_type": "code",
      "source": [
        "with zipfile.ZipFile(dataset_path, 'r') as zip_ref:\n",
        "    zip_ref.extractall(extracted_path)"
      ],
      "metadata": {
        "id": "AwErduUO-Vg3"
      },
      "execution_count": 4,
      "outputs": []
    },
    {
      "cell_type": "code",
      "source": [
        "#!ls '/content/dataset'"
      ],
      "metadata": {
        "id": "LT9Q3vKU-oI3"
      },
      "execution_count": null,
      "outputs": []
    },
    {
      "cell_type": "code",
      "source": [
        "import os\n",
        "import numpy as np\n",
        "import tensorflow as tf\n",
        "import PIL.Image"
      ],
      "metadata": {
        "id": "9jztslYl4KQy"
      },
      "execution_count": 5,
      "outputs": []
    },
    {
      "cell_type": "code",
      "source": [
        "# Define the CNN architecture\n",
        "model = tf.keras.Sequential([\n",
        "    tf.keras.layers.Conv2D(32, (3, 3), activation='relu', input_shape=(224, 224, 3)),\n",
        "    tf.keras.layers.MaxPooling2D((2, 2)),\n",
        "\n",
        "    tf.keras.layers.Conv2D(64, (3, 3), activation='relu'),\n",
        "    tf.keras.layers.MaxPooling2D((2, 2)),\n",
        "\n",
        "    tf.keras.layers.Flatten(),\n",
        "    tf.keras.layers.Dense(128, activation='relu'),\n",
        "    tf.keras.layers.Dense(2, activation='softmax')\n",
        "])\n"
      ],
      "metadata": {
        "id": "deyznSog6L7K"
      },
      "execution_count": 6,
      "outputs": []
    },
    {
      "cell_type": "code",
      "source": [
        "# Compile the model\n",
        "model.compile(optimizer='adam', loss='sparse_categorical_crossentropy', metrics=['accuracy'])\n"
      ],
      "metadata": {
        "id": "XET1gnJ_PKRG"
      },
      "execution_count": 7,
      "outputs": []
    },
    {
      "cell_type": "code",
      "source": [
        "# Resize the training images to 224x224 pixels\n",
        "def resize_image(image):\n",
        "    return image.resize((224, 224))\n",
        "\n",
        "# Split the training images into smaller batches\n",
        "batch_size = 320"
      ],
      "metadata": {
        "id": "SBKvM9lgNEv7"
      },
      "execution_count": 8,
      "outputs": []
    },
    {
      "cell_type": "code",
      "source": [
        "# Load the training images and labels\n",
        "training_images = []\n",
        "training_labels = []\n",
        "\n",
        "for root, directories, files in os.walk('/content/dataset/melanoma_cancer_dataset/train/benign'):\n",
        "    for file in files:\n",
        "        image = PIL.Image.open(os.path.join(root, file))\n",
        "        image = resize_image(image)\n",
        "\n",
        "        training_images.append(image)\n",
        "        training_labels.append(0)\n",
        "\n",
        "for root, directories, files in os.walk('/content/dataset/melanoma_cancer_dataset/train/malignant'):\n",
        "    for file in files:\n",
        "        image = PIL.Image.open(os.path.join(root, file))\n",
        "        image = resize_image(image)\n",
        "\n",
        "        training_images.append(image)\n",
        "        training_labels.append(1)\n"
      ],
      "metadata": {
        "id": "QHmv0TVANM-Y"
      },
      "execution_count": 9,
      "outputs": []
    },
    {
      "cell_type": "code",
      "source": [
        "# Convert the training labels to a NumPy array\n",
        "training_labels = np.array(training_labels)"
      ],
      "metadata": {
        "id": "aKpeIKz8N22W"
      },
      "execution_count": 10,
      "outputs": []
    },
    {
      "cell_type": "code",
      "source": [
        "# Convert the training images to a NumPy array\n",
        "training_images = np.array([np.array(image) for image in training_images])"
      ],
      "metadata": {
        "id": "OKSAAiT4Q61y"
      },
      "execution_count": 11,
      "outputs": []
    },
    {
      "cell_type": "code",
      "source": [
        "#  Train the model\n",
        "model.fit(training_images, training_labels, batch_size=32, epochs=1)\n"
      ],
      "metadata": {
        "colab": {
          "base_uri": "https://localhost:8080/"
        },
        "id": "U_F9P7ZLOOL1",
        "outputId": "0a031b04-d3f7-4fd8-b4fd-28213f6120e4"
      },
      "execution_count": null,
      "outputs": [
        {
          "output_type": "stream",
          "name": "stdout",
          "text": [
            "301/301 [==============================] - 845s 3s/step - loss: 45.2720 - accuracy: 0.6815\n"
          ]
        }
      ]
    },
    {
      "cell_type": "code",
      "source": [
        "# Load the test images and labels\n",
        "test_images = []\n",
        "test_labels = []\n",
        "\n",
        "for root, directories, files in os.walk('/content/dataset/melanoma_cancer_dataset/test/benign'):\n",
        "    for file in files:\n",
        "        image = PIL.Image.open(os.path.join(root, file))\n",
        "        image = resize_image(image)\n",
        "\n",
        "        test_images.append(image)\n",
        "        test_labels.append(0)\n",
        "\n",
        "for root, directories, files in os.walk('/content/dataset/melanoma_cancer_dataset/test/malignant'):\n",
        "    for file in files:\n",
        "        image = PIL.Image.open(os.path.join(root, file))\n",
        "        image = resize_image(image)\n",
        "\n",
        "        test_images.append(image)\n",
        "        test_labels.append(1)"
      ],
      "metadata": {
        "id": "icPq9GMqdSZp"
      },
      "execution_count": 14,
      "outputs": []
    },
    {
      "cell_type": "code",
      "source": [
        "# Convert the test labels to a NumPy array\n",
        "test_labels = np.array(test_labels)"
      ],
      "metadata": {
        "id": "tcoHVbjLe1EG"
      },
      "execution_count": 15,
      "outputs": []
    },
    {
      "cell_type": "code",
      "source": [
        "# Convert the test images to a NumPy array\n",
        "test_images = np.array([np.array(image) for image in test_images])"
      ],
      "metadata": {
        "id": "x-vW1Zlze7t-"
      },
      "execution_count": 16,
      "outputs": []
    },
    {
      "cell_type": "code",
      "source": [
        "# Evaluate the model on the test data\n",
        "test_loss, test_accuracy = model.evaluate(test_images, test_labels)\n"
      ],
      "metadata": {
        "id": "PiSt_TcofGFg",
        "outputId": "c9fe9898-5495-41e4-c80f-5656a320c40f",
        "colab": {
          "base_uri": "https://localhost:8080/"
        }
      },
      "execution_count": 17,
      "outputs": [
        {
          "output_type": "stream",
          "name": "stdout",
          "text": [
            "32/32 [==============================] - 22s 664ms/step - loss: 0.5224 - accuracy: 0.7440\n"
          ]
        }
      ]
    },
    {
      "cell_type": "code",
      "source": [
        "\n",
        "print(f\"Test Loss: {test_loss}\")\n",
        "print(f\"Test Accuracy: {test_accuracy}\")"
      ],
      "metadata": {
        "id": "f3Lv-NZ_fZEU",
        "outputId": "ce7c41a1-58ae-43eb-9545-0fd490b9d40e",
        "colab": {
          "base_uri": "https://localhost:8080/"
        }
      },
      "execution_count": 18,
      "outputs": [
        {
          "output_type": "stream",
          "name": "stdout",
          "text": [
            "Test Loss: 0.5224368572235107\n",
            "Test Accuracy: 0.7440000176429749\n"
          ]
        }
      ]
    },
    {
      "cell_type": "code",
      "source": [
        "# Save the trained model\n",
        "model.save('melanoma_cancer_model.h5')"
      ],
      "metadata": {
        "id": "bkUFkkgufdKn",
        "outputId": "91428e00-e30a-46a3-8476-e33cd1995779",
        "colab": {
          "base_uri": "https://localhost:8080/"
        }
      },
      "execution_count": 19,
      "outputs": [
        {
          "output_type": "stream",
          "name": "stderr",
          "text": [
            "/usr/local/lib/python3.10/dist-packages/keras/src/engine/training.py:3000: UserWarning: You are saving your model as an HDF5 file via `model.save()`. This file format is considered legacy. We recommend using instead the native Keras format, e.g. `model.save('my_model.keras')`.\n",
            "  saving_api.save_model(\n"
          ]
        }
      ]
    }
  ]
}