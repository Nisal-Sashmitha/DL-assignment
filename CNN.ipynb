{
  "nbformat": 4,
  "nbformat_minor": 0,
  "metadata": {
    "colab": {
      "provenance": []
    },
    "kernelspec": {
      "name": "python3",
      "display_name": "Python 3"
    },
    "language_info": {
      "name": "python"
    }
  },
  "cells": [
    {
      "cell_type": "markdown",
      "source": [
        "Mount Google Drive"
      ],
      "metadata": {
        "id": "eS0DU2Pu_3rm"
      }
    },
    {
      "cell_type": "code",
      "execution_count": 1,
      "metadata": {
        "colab": {
          "base_uri": "https://localhost:8080/"
        },
        "id": "sXNMrCdKaHqM",
        "outputId": "f1b24ed0-5426-4ee5-d399-18c0316d6e9b"
      },
      "outputs": [
        {
          "output_type": "stream",
          "name": "stdout",
          "text": [
            "Mounted at /content/drive\n"
          ]
        }
      ],
      "source": [
        "from google.colab import drive\n",
        "drive.mount('/content/drive')"
      ]
    },
    {
      "cell_type": "markdown",
      "source": [
        "Unzip the dataset"
      ],
      "metadata": {
        "id": "R-9xuQ9P_7CR"
      }
    },
    {
      "cell_type": "code",
      "source": [
        "import zipfile"
      ],
      "metadata": {
        "id": "_-OldPYi-Pkv"
      },
      "execution_count": 2,
      "outputs": []
    },
    {
      "cell_type": "code",
      "source": [
        "dataset_path = '/content/drive/MyDrive/skin cancer dataset.zip'\n",
        "extracted_path = '/content/dataset'"
      ],
      "metadata": {
        "id": "Wo2D4RYD-S0u"
      },
      "execution_count": 3,
      "outputs": []
    },
    {
      "cell_type": "code",
      "source": [
        "with zipfile.ZipFile(dataset_path, 'r') as zip_ref:\n",
        "    zip_ref.extractall(extracted_path)"
      ],
      "metadata": {
        "id": "AwErduUO-Vg3"
      },
      "execution_count": 4,
      "outputs": []
    },
    {
      "cell_type": "code",
      "source": [
        "#!ls '/content/dataset'"
      ],
      "metadata": {
        "id": "LT9Q3vKU-oI3"
      },
      "execution_count": null,
      "outputs": []
    },
    {
      "cell_type": "code",
      "source": [
        "import os\n",
        "import numpy as np\n",
        "import tensorflow as tf\n",
        "import PIL.Image"
      ],
      "metadata": {
        "id": "9jztslYl4KQy"
      },
      "execution_count": 5,
      "outputs": []
    },
    {
      "cell_type": "markdown",
      "source": [
        "Define the CNN model"
      ],
      "metadata": {
        "id": "pMey-j8byTVa"
      }
    },
    {
      "cell_type": "code",
      "source": [
        "model = tf.keras.Sequential([\n",
        "    tf.keras.layers.Conv2D(32, (3, 3), activation='relu', input_shape=(224, 224, 3)),\n",
        "    tf.keras.layers.MaxPooling2D((2, 2)),\n",
        "\n",
        "    tf.keras.layers.Conv2D(64, (3, 3), activation='relu'),\n",
        "    tf.keras.layers.MaxPooling2D((2, 2)),\n",
        "\n",
        "    tf.keras.layers.Flatten(),\n",
        "    tf.keras.layers.Dense(128, activation='relu'),\n",
        "    tf.keras.layers.Dense(2, activation='softmax')\n",
        "])\n"
      ],
      "metadata": {
        "id": "deyznSog6L7K"
      },
      "execution_count": 8,
      "outputs": []
    },
    {
      "cell_type": "markdown",
      "source": [
        "Compile the model"
      ],
      "metadata": {
        "id": "N5DpPFdTyY2H"
      }
    },
    {
      "cell_type": "code",
      "source": [
        "model.compile(optimizer='adam', loss='sparse_categorical_crossentropy', metrics=['accuracy'])"
      ],
      "metadata": {
        "id": "XET1gnJ_PKRG"
      },
      "execution_count": 10,
      "outputs": []
    },
    {
      "cell_type": "markdown",
      "source": [
        "Image Preprocessing"
      ],
      "metadata": {
        "id": "4pVDrnANyhtn"
      }
    },
    {
      "cell_type": "code",
      "source": [
        "def resize_image(image):\n",
        "    return image.resize((224, 224))\n",
        "\n",
        "# Split the training images into smaller batches\n",
        "batch_size = 320"
      ],
      "metadata": {
        "id": "SBKvM9lgNEv7"
      },
      "execution_count": 11,
      "outputs": []
    },
    {
      "cell_type": "markdown",
      "source": [
        "Load the training images and labels"
      ],
      "metadata": {
        "id": "IOFZj-LxysA4"
      }
    },
    {
      "cell_type": "code",
      "source": [
        "training_images = []\n",
        "training_labels = []\n",
        "\n",
        "for root, directories, files in os.walk('/content/dataset/melanoma_cancer_dataset/train/benign'):\n",
        "    for file in files:\n",
        "        image = PIL.Image.open(os.path.join(root, file))\n",
        "        image = resize_image(image)\n",
        "\n",
        "        training_images.append(image)\n",
        "        training_labels.append(0)\n",
        "\n",
        "for root, directories, files in os.walk('/content/dataset/melanoma_cancer_dataset/train/malignant'):\n",
        "    for file in files:\n",
        "        image = PIL.Image.open(os.path.join(root, file))\n",
        "        image = resize_image(image)\n",
        "\n",
        "        training_images.append(image)\n",
        "        training_labels.append(1)\n"
      ],
      "metadata": {
        "id": "QHmv0TVANM-Y"
      },
      "execution_count": 12,
      "outputs": []
    },
    {
      "cell_type": "markdown",
      "source": [
        "Convert the training labels and training images to a NumPy arrays"
      ],
      "metadata": {
        "id": "TRyYlq79zI4A"
      }
    },
    {
      "cell_type": "code",
      "source": [
        "training_images = np.array([np.array(image) for image in training_images])\n",
        "training_labels = np.array(training_labels)"
      ],
      "metadata": {
        "id": "aKpeIKz8N22W"
      },
      "execution_count": 13,
      "outputs": []
    },
    {
      "cell_type": "markdown",
      "source": [
        "Train the model"
      ],
      "metadata": {
        "id": "GHz5-5tlzba5"
      }
    },
    {
      "cell_type": "code",
      "source": [
        "model.fit(training_images, training_labels, batch_size=32, epochs=1)"
      ],
      "metadata": {
        "colab": {
          "base_uri": "https://localhost:8080/"
        },
        "id": "U_F9P7ZLOOL1",
        "outputId": "95e280d8-3234-495a-c6bf-e81a99938882"
      },
      "execution_count": 14,
      "outputs": [
        {
          "output_type": "stream",
          "name": "stdout",
          "text": [
            "301/301 [==============================] - 723s 2s/step - loss: 55.3502 - accuracy: 0.7264\n"
          ]
        },
        {
          "output_type": "execute_result",
          "data": {
            "text/plain": [
              "<keras.src.callbacks.History at 0x79415c4b9db0>"
            ]
          },
          "metadata": {},
          "execution_count": 14
        }
      ]
    },
    {
      "cell_type": "code",
      "source": [
        "# Save the trained model\n",
        "model.save('/content/sample_data/melanoma_cancer_model.h5')"
      ],
      "metadata": {
        "id": "bkUFkkgufdKn",
        "outputId": "d0e81c73-47af-4f1e-9c72-c13c08700df4",
        "colab": {
          "base_uri": "https://localhost:8080/"
        }
      },
      "execution_count": 15,
      "outputs": [
        {
          "output_type": "stream",
          "name": "stderr",
          "text": [
            "/usr/local/lib/python3.10/dist-packages/keras/src/engine/training.py:3000: UserWarning: You are saving your model as an HDF5 file via `model.save()`. This file format is considered legacy. We recommend using instead the native Keras format, e.g. `model.save('my_model.keras')`.\n",
            "  saving_api.save_model(\n"
          ]
        }
      ]
    },
    {
      "cell_type": "markdown",
      "source": [
        "Load the model"
      ],
      "metadata": {
        "id": "1g1MZPFBzwMj"
      }
    },
    {
      "cell_type": "code",
      "source": [
        "from tensorflow.keras.models import load_model\n",
        "\n",
        "model = load_model('/content/sample_data/melanoma_cancer_model.h5')"
      ],
      "metadata": {
        "id": "G-nwgc2Cz0Na"
      },
      "execution_count": 16,
      "outputs": []
    },
    {
      "cell_type": "markdown",
      "source": [
        "Load the new images for testing"
      ],
      "metadata": {
        "id": "NUYpEct50PmY"
      }
    },
    {
      "cell_type": "code",
      "source": [
        "import PIL.Image\n",
        "\n",
        "# new_images = []\n",
        "# for image_path in ['/path/to/image1.jpg', '/path/to/image2.jpg']:\n",
        "#   image = PIL.Image.open(image_path)\n",
        "  # image = resize_and_normalize(image)\n",
        "  # new_images.append(image)\n",
        "\n",
        " # Convert the new images to a NumPy array\n",
        "  # new_images = np.array(new_images)\n",
        "def resize_and_normalize(image):\n",
        "  image = image.resize((224, 224))\n",
        "  image = np.array(image)\n",
        "  image = image / 255.0\n",
        "  return image\n",
        "\n",
        "# Load the image\n",
        "image = PIL.Image.open('/content/dataset/melanoma_cancer_dataset/test/malignant/melanoma_10289.jpg')\n",
        "image = resize_and_normalize(image)"
      ],
      "metadata": {
        "id": "QYM_Rmh40U9e"
      },
      "execution_count": 41,
      "outputs": []
    },
    {
      "cell_type": "markdown",
      "source": [
        "Make predictions\n"
      ],
      "metadata": {
        "id": "oISnU1V50m6W"
      }
    },
    {
      "cell_type": "code",
      "source": [
        "# predictions = model.predict(new_images)\n",
        "\n",
        "# # Get the predicted labels\n",
        "# predicted_labels = np.argmax(predictions, axis=1)\n",
        "\n",
        "prediction = model.predict(np.array([image]))\n",
        "predicted_label = np.argmax(prediction, axis=1)"
      ],
      "metadata": {
        "colab": {
          "base_uri": "https://localhost:8080/"
        },
        "id": "w620O_BP0sIz",
        "outputId": "c19adb64-2d7e-4be8-c2e0-0039c4e272eb"
      },
      "execution_count": 42,
      "outputs": [
        {
          "output_type": "stream",
          "name": "stdout",
          "text": [
            "1/1 [==============================] - 0s 64ms/step\n"
          ]
        }
      ]
    },
    {
      "cell_type": "markdown",
      "source": [
        "Print the result"
      ],
      "metadata": {
        "id": "kwg-P57C05ah"
      }
    },
    {
      "cell_type": "code",
      "source": [
        "# for predicted_label in predicted_labels:\n",
        "#   if predicted_label == 0:\n",
        "#     print('Benign')\n",
        "#   else:\n",
        "#     print('Malignant')\n",
        "\n",
        "if predicted_label == 0:\n",
        "  print('Benign')\n",
        "else:\n",
        "  print('Malignant')"
      ],
      "metadata": {
        "colab": {
          "base_uri": "https://localhost:8080/"
        },
        "id": "EE-gIVon0wrw",
        "outputId": "9847458c-0f6a-4833-a728-2d16d49242d3"
      },
      "execution_count": 43,
      "outputs": [
        {
          "output_type": "stream",
          "name": "stdout",
          "text": [
            "Malignant\n"
          ]
        }
      ]
    }
  ]
}