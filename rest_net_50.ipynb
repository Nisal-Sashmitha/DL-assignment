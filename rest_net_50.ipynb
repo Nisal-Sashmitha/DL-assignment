{
  "nbformat": 4,
  "nbformat_minor": 0,
  "metadata": {
    "colab": {
      "provenance": []
    },
    "kernelspec": {
      "name": "python3",
      "display_name": "Python 3"
    },
    "language_info": {
      "name": "python"
    }
  },
  "cells": [
    {
      "cell_type": "markdown",
      "source": [
        "Mount Google Drive"
      ],
      "metadata": {
        "id": "eS0DU2Pu_3rm"
      }
    },
    {
      "cell_type": "code",
      "execution_count": 12,
      "metadata": {
        "colab": {
          "base_uri": "https://localhost:8080/"
        },
        "id": "sXNMrCdKaHqM",
        "outputId": "bb990492-3523-431a-d12a-1e80d4ca5330"
      },
      "outputs": [
        {
          "output_type": "stream",
          "name": "stdout",
          "text": [
            "Drive already mounted at /content/drive; to attempt to forcibly remount, call drive.mount(\"/content/drive\", force_remount=True).\n"
          ]
        }
      ],
      "source": [
        "from google.colab import drive\n",
        "drive.mount('/content/drive')"
      ]
    },
    {
      "cell_type": "markdown",
      "source": [
        "Unzip the dataset"
      ],
      "metadata": {
        "id": "R-9xuQ9P_7CR"
      }
    },
    {
      "cell_type": "code",
      "source": [
        "import zipfile"
      ],
      "metadata": {
        "id": "_-OldPYi-Pkv"
      },
      "execution_count": 2,
      "outputs": []
    },
    {
      "cell_type": "code",
      "source": [
        "dataset_path = '/content/drive/MyDrive/DL skin cancer.zip'\n",
        "extracted_path = '/content/dataset'"
      ],
      "metadata": {
        "id": "Wo2D4RYD-S0u"
      },
      "execution_count": 13,
      "outputs": []
    },
    {
      "cell_type": "code",
      "source": [
        "with zipfile.ZipFile(dataset_path, 'r') as zip_ref:\n",
        "    zip_ref.extractall(extracted_path)"
      ],
      "metadata": {
        "id": "AwErduUO-Vg3"
      },
      "execution_count": 14,
      "outputs": []
    },
    {
      "cell_type": "code",
      "source": [
        "#!ls '/content/dataset'"
      ],
      "metadata": {
        "id": "LT9Q3vKU-oI3"
      },
      "execution_count": null,
      "outputs": []
    },
    {
      "cell_type": "code",
      "source": [
        "import os\n",
        "import numpy as np\n",
        "import tensorflow as tf\n",
        "import PIL.Image"
      ],
      "metadata": {
        "id": "9jztslYl4KQy"
      },
      "execution_count": 15,
      "outputs": []
    },
    {
      "cell_type": "markdown",
      "source": [
        "Define the CNN model"
      ],
      "metadata": {
        "id": "pMey-j8byTVa"
      }
    },
    {
      "cell_type": "code",
      "source": [
        "from tensorflow.keras.applications import ResNet50\n",
        "\n",
        "# Load the pre-trained ResNet50 model\n",
        "resnet50 = ResNet50(weights='imagenet')\n",
        "\n",
        "# Create a new model that starts with the pre-trained ResNet50 model\n",
        "model = tf.keras.Sequential([\n",
        "  resnet50,\n",
        "\n",
        "  tf.keras.layers.Flatten(),\n",
        "  tf.keras.layers.Dropout(0.2),\n",
        "  tf.keras.layers.Dense(128, activation='relu'),\n",
        "  tf.keras.layers.Dropout(0.2),\n",
        "  tf.keras.layers.Dense(2, activation='softmax')\n",
        "])\n",
        "\n",
        "# Freeze the pre-trained weights of the ResNet50 model\n",
        "for layer in model.layers[:len(resnet50.layers)]:\n",
        "  layer.trainable = False"
      ],
      "metadata": {
        "id": "deyznSog6L7K"
      },
      "execution_count": 52,
      "outputs": []
    },
    {
      "cell_type": "markdown",
      "source": [
        "Compile the model"
      ],
      "metadata": {
        "id": "N5DpPFdTyY2H"
      }
    },
    {
      "cell_type": "code",
      "source": [
        "model.compile(optimizer='adam', loss='sparse_categorical_crossentropy', metrics=['accuracy'])"
      ],
      "metadata": {
        "id": "XET1gnJ_PKRG"
      },
      "execution_count": 53,
      "outputs": []
    },
    {
      "cell_type": "markdown",
      "source": [
        "Image Preprocessing"
      ],
      "metadata": {
        "id": "4pVDrnANyhtn"
      }
    },
    {
      "cell_type": "code",
      "source": [
        "def resize_image(image):\n",
        "    return image.resize((224, 224))\n",
        "\n",
        "# Split the training images into smaller batches\n",
        "batch_size = 320"
      ],
      "metadata": {
        "id": "SBKvM9lgNEv7"
      },
      "execution_count": 54,
      "outputs": []
    },
    {
      "cell_type": "markdown",
      "source": [
        "Load the training images and labels"
      ],
      "metadata": {
        "id": "IOFZj-LxysA4"
      }
    },
    {
      "cell_type": "code",
      "source": [
        "training_images = []\n",
        "training_labels = []\n",
        "\n",
        "for root, directories, files in os.walk('/content/dataset/DL/train/benign'):\n",
        "    for file in files:\n",
        "        image = PIL.Image.open(os.path.join(root, file))\n",
        "        image = resize_image(image)\n",
        "\n",
        "        training_images.append(image)\n",
        "        training_labels.append(0)\n",
        "\n",
        "for root, directories, files in os.walk('/content/dataset/DL/train/malignant'):\n",
        "    for file in files:\n",
        "        image = PIL.Image.open(os.path.join(root, file))\n",
        "        image = resize_image(image)\n",
        "\n",
        "        training_images.append(image)\n",
        "        training_labels.append(1)\n"
      ],
      "metadata": {
        "id": "QHmv0TVANM-Y"
      },
      "execution_count": 55,
      "outputs": []
    },
    {
      "cell_type": "markdown",
      "source": [
        "Convert the training labels and training images to a NumPy arrays"
      ],
      "metadata": {
        "id": "TRyYlq79zI4A"
      }
    },
    {
      "cell_type": "code",
      "source": [
        "training_images = np.array([np.array(image) for image in training_images])\n",
        "training_labels = np.array(training_labels)"
      ],
      "metadata": {
        "id": "aKpeIKz8N22W"
      },
      "execution_count": 56,
      "outputs": []
    },
    {
      "cell_type": "markdown",
      "source": [
        "Train the model"
      ],
      "metadata": {
        "id": "GHz5-5tlzba5"
      }
    },
    {
      "cell_type": "code",
      "source": [
        "model.fit(training_images, training_labels, batch_size=32, epochs=1)"
      ],
      "metadata": {
        "colab": {
          "base_uri": "https://localhost:8080/"
        },
        "id": "U_F9P7ZLOOL1",
        "outputId": "bc051c37-44fc-4101-a852-9a0005389287"
      },
      "execution_count": 57,
      "outputs": [
        {
          "output_type": "stream",
          "name": "stdout",
          "text": [
            "66/66 [==============================] - 339s 5s/step - loss: 0.6926 - accuracy: 0.5280\n"
          ]
        },
        {
          "output_type": "execute_result",
          "data": {
            "text/plain": [
              "<keras.src.callbacks.History at 0x7decc80db3a0>"
            ]
          },
          "metadata": {},
          "execution_count": 57
        }
      ]
    },
    {
      "cell_type": "code",
      "source": [
        "# Save the trained model\n",
        "model.save('/content/sample_data/melanoma_cancer_model.h5')"
      ],
      "metadata": {
        "id": "bkUFkkgufdKn"
      },
      "execution_count": 58,
      "outputs": []
    },
    {
      "cell_type": "markdown",
      "source": [
        "Load the model"
      ],
      "metadata": {
        "id": "1g1MZPFBzwMj"
      }
    },
    {
      "cell_type": "code",
      "source": [
        "from tensorflow.keras.models import load_model\n",
        "\n",
        "model = load_model('/content/sample_data/melanoma_cancer_model.h5')"
      ],
      "metadata": {
        "id": "G-nwgc2Cz0Na"
      },
      "execution_count": 59,
      "outputs": []
    },
    {
      "cell_type": "markdown",
      "source": [
        "Load the new images for testing"
      ],
      "metadata": {
        "id": "NUYpEct50PmY"
      }
    },
    {
      "cell_type": "code",
      "source": [
        "import PIL.Image\n",
        "\n",
        "# new_images = []\n",
        "# for image_path in ['/path/to/image1.jpg', '/path/to/image2.jpg']:\n",
        "#   image = PIL.Image.open(image_path)\n",
        "  # image = resize_and_normalize(image)\n",
        "  # new_images.append(image)\n",
        "\n",
        " # Convert the new images to a NumPy array\n",
        "  # new_images = np.array(new_images)\n",
        "def resize_and_normalize(image):\n",
        "  image = image.resize((224, 224))\n",
        "  image = np.array(image)\n",
        "  image = image / 255.0\n",
        "  return image\n",
        "\n",
        "# Load the image\n",
        "image = PIL.Image.open('/content/dataset/melanoma_cancer_dataset/test/malignant/melanoma_10326.jpg')\n",
        "image = resize_and_normalize(image)"
      ],
      "metadata": {
        "id": "QYM_Rmh40U9e"
      },
      "execution_count": 60,
      "outputs": []
    },
    {
      "cell_type": "markdown",
      "source": [
        "Make predictions\n"
      ],
      "metadata": {
        "id": "oISnU1V50m6W"
      }
    },
    {
      "cell_type": "code",
      "source": [
        "# predictions = model.predict(new_images)\n",
        "\n",
        "# # Get the predicted labels\n",
        "# predicted_labels = np.argmax(predictions, axis=1)\n",
        "\n",
        "prediction = model.predict(np.array([image]))\n",
        "predicted_label = np.argmax(prediction, axis=1)"
      ],
      "metadata": {
        "colab": {
          "base_uri": "https://localhost:8080/"
        },
        "id": "w620O_BP0sIz",
        "outputId": "0fcdaf88-7356-4584-d12d-0c5252606ca3"
      },
      "execution_count": 61,
      "outputs": [
        {
          "output_type": "stream",
          "name": "stdout",
          "text": [
            "1/1 [==============================] - 2s 2s/step\n"
          ]
        }
      ]
    },
    {
      "cell_type": "markdown",
      "source": [
        "Print the result"
      ],
      "metadata": {
        "id": "kwg-P57C05ah"
      }
    },
    {
      "cell_type": "code",
      "source": [
        "# for predicted_label in predicted_labels:\n",
        "#   if predicted_label == 0:\n",
        "#     print('Benign')\n",
        "#   else:\n",
        "#     print('Malignant')\n",
        "\n",
        "if predicted_label == 0:\n",
        "  print('Benign')\n",
        "else:\n",
        "  print('Malignant')"
      ],
      "metadata": {
        "colab": {
          "base_uri": "https://localhost:8080/"
        },
        "id": "EE-gIVon0wrw",
        "outputId": "d0ea0d79-53b4-4d19-d750-c3df211bd144"
      },
      "execution_count": 62,
      "outputs": [
        {
          "output_type": "stream",
          "name": "stdout",
          "text": [
            "Malignant\n"
          ]
        }
      ]
    }
  ]
}